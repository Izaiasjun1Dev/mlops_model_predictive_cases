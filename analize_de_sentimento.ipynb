{
 "metadata": {
  "language_info": {
   "codemirror_mode": {
    "name": "ipython",
    "version": 3
   },
   "file_extension": ".py",
   "mimetype": "text/x-python",
   "name": "python",
   "nbconvert_exporter": "python",
   "pygments_lexer": "ipython3",
   "version": "3.8.8"
  },
  "orig_nbformat": 2,
  "kernelspec": {
   "name": "python388jvsc74a57bd0495e961c40cf28c01f1baca5fbb0098578250ae3ca77d11a366d39269b8df3ef",
   "display_name": "Python 3.8.8 64-bit ('data_science': conda)"
  },
  "metadata": {
   "interpreter": {
    "hash": "495e961c40cf28c01f1baca5fbb0098578250ae3ca77d11a366d39269b8df3ef"
   }
  }
 },
 "nbformat": 4,
 "nbformat_minor": 2,
 "cells": [
  {
   "cell_type": "code",
   "execution_count": null,
   "metadata": {},
   "outputs": [],
   "source": []
  }
 ]
}